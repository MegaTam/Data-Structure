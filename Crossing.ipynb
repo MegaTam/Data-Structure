{
 "cells": [
  {
   "cell_type": "code",
   "execution_count": 1,
   "id": "852b1ef4",
   "metadata": {},
   "outputs": [
    {
     "data": {
      "text/plain": [
       "'A terminal is a row of n equal segments numbered 1 to n in order. There are two parallel terminals, one above the other.\\nYou are given an array a of length n. For all i = 1, 2, , n, there should be a straight wire from some\\npoint on segment i of the top terminal to some point on segment ai of the bottom terminal. \\nYou can’t select the endpoints of a segment. \\nWhat is the maximum number of crossings there can be if you place the wires optimally?'"
      ]
     },
     "execution_count": 1,
     "metadata": {},
     "output_type": "execute_result"
    }
   ],
   "source": [
    "#Crossing\n",
    "'''A terminal is a row of n equal segments numbered 1 to n in order. There are two parallel terminals, one above the other.\n",
    "You are given an array a of length n. For all i = 1, 2, , n, there should be a straight wire from some\n",
    "point on segment i of the top terminal to some point on segment ai of the bottom terminal. \n",
    "You can’t select the endpoints of a segment. \n",
    "What is the maximum number of crossings there can be if you place the wires optimally?'''"
   ]
  },
  {
   "cell_type": "code",
   "execution_count": 3,
   "id": "40d11515",
   "metadata": {},
   "outputs": [
    {
     "name": "stdout",
     "output_type": "stream",
     "text": [
      "7\n",
      "4 1 4 6 7 7 5\n"
     ]
    }
   ],
   "source": [
    "len_of_line = int(input())\n",
    "ai = input().split()         # the data type input is a string, we should change it to list first\n",
    "list_of_line_int = []\n",
    "for element in ai:\n",
    "    list_of_line_int.append(int(element))"
   ]
  },
  {
   "cell_type": "code",
   "execution_count": 4,
   "id": "e87e3f0c",
   "metadata": {},
   "outputs": [],
   "source": [
    "def merge_count(array_to_sort, left, right):      # use the method of merge sort to solve the problem\n",
    "    if left >= right:\n",
    "        return 0\n",
    "    mid = (left + right) // 2\n",
    "    intersection = merge_count(array_to_sort, left, mid) + merge_count(array_to_sort, mid + 1, right)\n",
    "    i = left\n",
    "    j = mid + 1\n",
    "    temporary = []\n",
    "    while i <= mid and j <= right:\n",
    "        if array_to_sort[i] < array_to_sort[j]:\n",
    "            temporary.append(array_to_sort[i])\n",
    "            i += 1  # move to the next element\n",
    "        else:       # if any of the previous ones are not smaller than the latter one\n",
    "            intersection += (mid - i + 1)\n",
    "            # intersection will increase(each of the segments between them will create an intersection)\n",
    "            temporary.append(array_to_sort[j])\n",
    "            j += 1\n",
    "    while i <= mid:\n",
    "        temporary.append(array_to_sort[i])\n",
    "        i += 1\n",
    "    while j <= right:\n",
    "        temporary.append(array_to_sort[j])\n",
    "        j += 1\n",
    "    array_to_sort[left: right + 1] = temporary\n",
    "    return intersection  # the intersection will be the final result of question"
   ]
  },
  {
   "cell_type": "code",
   "execution_count": 5,
   "id": "85df3e1a",
   "metadata": {},
   "outputs": [
    {
     "name": "stdout",
     "output_type": "stream",
     "text": [
      "6\n"
     ]
    }
   ],
   "source": [
    "print(merge_count(list_of_line_int, 0, len_of_line - 1))"
   ]
  }
 ],
 "metadata": {
  "kernelspec": {
   "display_name": "Python 3 (ipykernel)",
   "language": "python",
   "name": "python3"
  },
  "language_info": {
   "codemirror_mode": {
    "name": "ipython",
    "version": 3
   },
   "file_extension": ".py",
   "mimetype": "text/x-python",
   "name": "python",
   "nbconvert_exporter": "python",
   "pygments_lexer": "ipython3",
   "version": "3.10.5"
  }
 },
 "nbformat": 4,
 "nbformat_minor": 5
}
