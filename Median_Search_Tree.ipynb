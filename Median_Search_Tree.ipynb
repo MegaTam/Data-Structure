{
 "cells": [
  {
   "cell_type": "code",
   "execution_count": 1,
   "id": "6ddfcbec",
   "metadata": {},
   "outputs": [
    {
     "data": {
      "text/plain": [
       "'Barbara has got a set of values with size of 2k initially. Barbara wants to do m operations on it. \\nEach operation belongs to the following 3 types:\\n• 1 w: insert a value w.\\n• 2: output all the median 2k values, i.e. at−k+p, ∀1 ≤ p ≤ 2k.\\n• 3 p: delete the p-th value among median 2k values, i.e. at−k+p.\\nWe guarantee that all the values will be distinct and the size of the set is always at least 2k.\\nOutput the median 2k values of the sorted array'"
      ]
     },
     "execution_count": 1,
     "metadata": {},
     "output_type": "execute_result"
    }
   ],
   "source": [
    "#Median Search Tree\n",
    "'''Barbara has got a set of values with size of 2k initially. Barbara wants to do m operations on it. \n",
    "Each operation belongs to the following 3 types:\n",
    "• 1 w: insert a value w.\n",
    "• 2: output all the median 2k values, i.e. at−k+p, ∀1 ≤ p ≤ 2k.\n",
    "• 3 p: delete the p-th value among median 2k values, i.e. at−k+p.\n",
    "We guarantee that all the values will be distinct and the size of the set is always at least 2k.\n",
    "Output the median 2k values of the sorted array'''"
   ]
  },
  {
   "cell_type": "code",
   "execution_count": 2,
   "id": "0694b09b",
   "metadata": {},
   "outputs": [
    {
     "name": "stdout",
     "output_type": "stream",
     "text": [
      "5 2\n",
      "8 4 2 6\n"
     ]
    }
   ],
   "source": [
    "import heapq\n",
    "information = input().split()\n",
    "k = int(information[1])\n",
    "list_of_mid = input().split()\n",
    "for num in range(2*k):\n",
    "    list_of_mid[num] = int(list_of_mid[num])    # initialize the list of min\n",
    "list_of_mid.sort()\n",
    "max_heap = []   # create a max_heap to store number smaller than list_of_mid\n",
    "min_heap = []   # create a min_heap to store number larger than list_of_mid"
   ]
  },
  {
   "cell_type": "code",
   "execution_count": 3,
   "id": "f644d25d",
   "metadata": {},
   "outputs": [
    {
     "data": {
      "text/plain": [
       "' value: max_heap[0] < list_of_mid[0] < list_of_mid[-1] < min_heap[0]\\n    size: (max_heap - min_heap) = 1 or 0, list_of_mid = 2k'"
      ]
     },
     "execution_count": 3,
     "metadata": {},
     "output_type": "execute_result"
    }
   ],
   "source": [
    "''' value: max_heap[0] < list_of_mid[0] < list_of_mid[-1] < min_heap[0]\n",
    "    size: (max_heap - min_heap) = 1 or 0, list_of_mid = 2k'''"
   ]
  },
  {
   "cell_type": "code",
   "execution_count": 4,
   "id": "d48e5739",
   "metadata": {},
   "outputs": [],
   "source": [
    "def update():       # should maintain len(max_heap) >= len(min_heap), and their difference <= 1\n",
    "    if len(max_heap) - len(min_heap) > 1:\n",
    "        '''if len(max)-len(min) > 1, then pop root of max_heap and insert it into list_of_mid[0]\n",
    "            then pop list_of_mid[-1] and insert it into min_heap'''\n",
    "        list_of_mid.insert(0, -1*heapq.heappop(max_heap))\n",
    "        heapq.heappush(min_heap, list_of_mid.pop())\n",
    "    if len(min_heap) - len(max_heap) > 0:\n",
    "        ''' if len(min)-len(max) >= 1, then pop root of min_heap and insert it into list_of_mid[-1]\n",
    "            then pop list_of_mid[0] and insert it into max_heap'''\n",
    "        list_of_mid.append(heapq.heappop(min_heap))\n",
    "        heapq.heappush(max_heap, -1*list_of_mid.pop(0))"
   ]
  },
  {
   "cell_type": "code",
   "execution_count": 5,
   "id": "c67e42f1",
   "metadata": {},
   "outputs": [],
   "source": [
    "def insert(num_to_insert):  # def a function to insert the num\n",
    "    if num_to_insert <= list_of_mid[0]:\n",
    "        '''if the num is too small to be stored in list_of_mid\n",
    "            then insert the num into max_heap'''\n",
    "        heapq.heappush(max_heap, -1 * num_to_insert)\n",
    "        update()\n",
    "    elif num_to_insert >= list_of_mid[-1]:\n",
    "        '''if the num is too large to be stored in list_of_mid\n",
    "            then insert the num into min_heap'''\n",
    "        heapq.heappush(min_heap, num_to_insert)\n",
    "        update()\n",
    "    else:\n",
    "        '''if the num can be stored in list_of_mid, insert it into the list and sort the list'''\n",
    "        '''if len(max)-len(min)=1, pop list_of_sort[-1] to min'''\n",
    "        '''if len(max)-len(min)=0, pop list_of_sort[0] to max'''\n",
    "        if len(max_heap) - len(min_heap) == 1:\n",
    "            heapq.heappush(min_heap, list_of_mid.pop())\n",
    "        else:\n",
    "            heapq.heappush(max_heap, -1*list_of_mid.pop(0))\n",
    "        insort_index = 0\n",
    "        for index in range(2*k-1):\n",
    "            if list_of_mid[index] < num_to_insert:\n",
    "                insort_index += 1\n",
    "        list_of_mid.insert(insort_index, num_to_insert)\n",
    "        update()"
   ]
  },
  {
   "cell_type": "code",
   "execution_count": 6,
   "id": "2ec6efdd",
   "metadata": {},
   "outputs": [],
   "source": [
    "def delete(index_to_delete):\n",
    "    del list_of_mid[index_to_delete-1]\n",
    "    if len(max_heap) == len(min_heap):\n",
    "        list_of_mid.append(heapq.heappop(min_heap))\n",
    "    else:\n",
    "        list_of_mid.insert(0, -1*heapq.heappop(max_heap))"
   ]
  },
  {
   "cell_type": "code",
   "execution_count": 7,
   "id": "aac991fa",
   "metadata": {},
   "outputs": [
    {
     "name": "stdout",
     "output_type": "stream",
     "text": [
      "2\n",
      "2 4 6 8\n",
      "1 5\n",
      "2\n",
      "4 5 6 8\n",
      "1 3\n",
      "2\n",
      "3 4 5 6\n"
     ]
    }
   ],
   "source": [
    "for i in range(int(information[0])):\n",
    "    operation = input().split()\n",
    "    if operation[0] == '1':\n",
    "        insert(int(operation[1]))\n",
    "    elif operation[0] == '3':\n",
    "        delete(int(operation[1]))\n",
    "    elif operation[0] == '2':\n",
    "        for num in range(len(list_of_mid)-1):\n",
    "            print(list_of_mid[num], end=' ')\n",
    "        print(list_of_mid[-1])"
   ]
  }
 ],
 "metadata": {
  "kernelspec": {
   "display_name": "Python 3 (ipykernel)",
   "language": "python",
   "name": "python3"
  },
  "language_info": {
   "codemirror_mode": {
    "name": "ipython",
    "version": 3
   },
   "file_extension": ".py",
   "mimetype": "text/x-python",
   "name": "python",
   "nbconvert_exporter": "python",
   "pygments_lexer": "ipython3",
   "version": "3.10.5"
  }
 },
 "nbformat": 4,
 "nbformat_minor": 5
}
