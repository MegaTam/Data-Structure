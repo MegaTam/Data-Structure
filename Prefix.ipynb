{
 "cells": [
  {
   "cell_type": "code",
   "execution_count": 13,
   "id": "226c1b37",
   "metadata": {},
   "outputs": [
    {
     "data": {
      "text/plain": [
       "'You are given n strings s(1), s(2), · · · , s(n) and q queries. \\nIn the ith query, you are given a string t(i), \\nplease find out how many strings in s(1), s(2), · · · , s(n) begins with t(i)'"
      ]
     },
     "execution_count": 13,
     "metadata": {},
     "output_type": "execute_result"
    }
   ],
   "source": [
    "# Prefix\n",
    "'''You are given n strings s(1), s(2), · · · , s(n) and q queries. \n",
    "In the ith query, you are given a string t(i), \n",
    "please find out how many strings in s(1), s(2), · · · , s(n) begins with t(i)'''"
   ]
  },
  {
   "cell_type": "code",
   "execution_count": 14,
   "id": "83c54044",
   "metadata": {},
   "outputs": [],
   "source": [
    "class Node:              # define a data structure Node\n",
    "    def __init__(self):\n",
    "        self.current_count = 0\n",
    "        self.next = [None]*26"
   ]
  },
  {
   "cell_type": "code",
   "execution_count": 15,
   "id": "f11fe5c0",
   "metadata": {},
   "outputs": [],
   "source": [
    "class tree_of_alphabet:  # define a special tree to store the list\n",
    "    def __init__(self):\n",
    "        self.root = Node()\n",
    "\n",
    "    def get_num_of_word(self, word_to_find):   # a function to get the occurrence of each word\n",
    "        current = self.root     # start from the root node\n",
    "        for element in word_to_find:\n",
    "            index = ord(element) - ord('a')        # get the index of each letter in word_to_find\n",
    "            if current.next[index] is None:        # if we cannot find the label\n",
    "                return 0\n",
    "            else:\n",
    "                current = current.next[index]              # move to the next node and check\n",
    "        return current.current_count               # return the final result of word it found\n",
    "   \n",
    "    def add_new_word(self, word_input):\n",
    "        root_of_tree = self.root\n",
    "        for letter in word_input:      # store each letter of the input word into the tree\n",
    "            index = ord(letter) - ord('a')   # index means (number of that letter in alphabet) - 1\n",
    "            if root_of_tree.next[index] is None:\n",
    "                root_of_tree.next[index] = Node()\n",
    "            root_of_tree = root_of_tree.next[index]\n",
    "            root_of_tree.current_count += 1  # everytime add a new letter, the current count should +1"
   ]
  },
  {
   "cell_type": "code",
   "execution_count": 16,
   "id": "c75bc86c",
   "metadata": {},
   "outputs": [
    {
     "name": "stdout",
     "output_type": "stream",
     "text": [
      "5\n",
      "apply\n",
      "aparent\n",
      "aggresive\n",
      "banana\n",
      "ban\n"
     ]
    }
   ],
   "source": [
    "n = int(input())\n",
    "tree = tree_of_alphabet()\n",
    "for num_of_string in range(n):\n",
    "    word = input()                          # ask the user to input n words\n",
    "    tree.add_new_word(word)                 # add the word to the tree"
   ]
  },
  {
   "cell_type": "code",
   "execution_count": 17,
   "id": "8869d3cc",
   "metadata": {},
   "outputs": [
    {
     "name": "stdout",
     "output_type": "stream",
     "text": [
      "3\n",
      "ap\n",
      "2\n",
      "app\n",
      "1\n",
      "ban\n",
      "2\n"
     ]
    }
   ],
   "source": [
    "q = int(input())\n",
    "for num_of_label in range(q):               # ask the user to input q labels\n",
    "    label = input()\n",
    "    print(tree.get_num_of_word(label))      # check how many words on tree start with each label"
   ]
  }
 ],
 "metadata": {
  "kernelspec": {
   "display_name": "Python 3 (ipykernel)",
   "language": "python",
   "name": "python3"
  },
  "language_info": {
   "codemirror_mode": {
    "name": "ipython",
    "version": 3
   },
   "file_extension": ".py",
   "mimetype": "text/x-python",
   "name": "python",
   "nbconvert_exporter": "python",
   "pygments_lexer": "ipython3",
   "version": "3.10.5"
  }
 },
 "nbformat": 4,
 "nbformat_minor": 5
}
