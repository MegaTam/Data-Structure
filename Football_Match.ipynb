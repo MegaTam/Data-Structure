{
 "cells": [
  {
   "cell_type": "code",
   "execution_count": 3,
   "id": "76810492",
   "metadata": {},
   "outputs": [
    {
     "name": "stdout",
     "output_type": "stream",
     "text": [
      "3 114514\n",
      "1 2 3\n"
     ]
    }
   ],
   "source": [
    "#Football Match\n",
    "'''There are n teams in this tournament, numbered from 1 to n. \n",
    "Each team has its popularity, and the popularity of team i is a(i). \n",
    "A match between i and j will gain a(i) × a(j) MOD M attractions.\n",
    "When a football team loses a match, it will be eliminated from the tournament. \n",
    "At the end, the team left standing will be the champion of this tournament. \n",
    "Calculate the maximum sum of the attractions of the (n-1) matches.'''\n",
    "list_of_input = input().split()     # ask the user to input n and M\n",
    "n, M = int(list_of_input[0]), int(list_of_input[1])\n",
    "list_of_a = input().split()         # ask the user to input a[i]\n",
    "for num in range(n):\n",
    "    list_of_a[num] = int(list_of_a[num])"
   ]
  },
  {
   "cell_type": "code",
   "execution_count": 4,
   "id": "d32496ba",
   "metadata": {},
   "outputs": [],
   "source": [
    "def prim(graph_input):              # def a function to utilize prim\n",
    "    highest_cost = [-1]\n",
    "    ''' highest_cost[n] will be the value of n and its next point\n",
    "        -1 means n has already been travelled'''\n",
    "    max_sum = 0                     # initialize the sum of max value\n",
    "    for p in range(1, n):           # initialize the highest cost as 1234...\n",
    "        highest_cost.append(graph_input[0][p])\n",
    "\n",
    "    for i in range(1, n):\n",
    "        index = 0                   # start from the first point\n",
    "        maxi = 0                    # initial maxi that is small enough(0)\n",
    "        for k in range(1, n):       # if the highest > maxi\n",
    "            if highest_cost[k] != -1 and highest_cost[k] > maxi:\n",
    "                index = k                 # let k be the next point and do the process again\n",
    "                maxi = highest_cost[k]    # make current highest be maxi\n",
    "        max_sum += maxi             # update the max_sum\n",
    "        highest_cost[index] = -1    # set the node as travelled\n",
    "        for m in range(1, n):\n",
    "            if highest_cost[m] != -1 and highest_cost[m] < graph_input[index][m]:\n",
    "                highest_cost[m] = graph_input[index][m]  # update the list of the highest cost\n",
    "    return max_sum"
   ]
  },
  {
   "cell_type": "code",
   "execution_count": 5,
   "id": "d41ffe62",
   "metadata": {},
   "outputs": [],
   "source": [
    "def create_graph(num_of_a):         # def a function to create a matrix\n",
    "    list_of_matrix = []\n",
    "    for i in range(num_of_a):\n",
    "        list_of_matrix.append([0]*num_of_a)  # initialize a blank matrix(2-D)\n",
    "        for numb in range(num_of_a):\n",
    "            list_of_matrix[i][numb] = (list_of_a[i] * list_of_a[numb]) % M  # update the value\n",
    "        list_of_matrix[i][i] = 0\n",
    "    return list_of_matrix"
   ]
  },
  {
   "cell_type": "code",
   "execution_count": 6,
   "id": "b736b48d",
   "metadata": {},
   "outputs": [
    {
     "name": "stdout",
     "output_type": "stream",
     "text": [
      "9\n"
     ]
    }
   ],
   "source": [
    "graph = create_graph(n)\n",
    "print(prim(graph))"
   ]
  }
 ],
 "metadata": {
  "kernelspec": {
   "display_name": "Python 3 (ipykernel)",
   "language": "python",
   "name": "python3"
  },
  "language_info": {
   "codemirror_mode": {
    "name": "ipython",
    "version": 3
   },
   "file_extension": ".py",
   "mimetype": "text/x-python",
   "name": "python",
   "nbconvert_exporter": "python",
   "pygments_lexer": "ipython3",
   "version": "3.10.5"
  }
 },
 "nbformat": 4,
 "nbformat_minor": 5
}
