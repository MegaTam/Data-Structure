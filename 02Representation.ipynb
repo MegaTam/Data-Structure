{
 "cells": [
  {
   "cell_type": "code",
   "execution_count": 4,
   "id": "609b15b0",
   "metadata": {},
   "outputs": [
    {
     "data": {
      "text/plain": [
       "'Each positive integer n corresponds to a unique binary representation (specifying that binary\\nnumbers are written from right to left, in order of most significant digit to least significant digit).\\nFor example: 10 = 8 + 2 = 2(3) + 2(1)\\nFor ease of writing, “a(b)” is used in this question to denote “a to the power of b”, i.e., a^b.\\nSpecifying the 02 representation of a number can be obtained by the following procedure:\\n1. substitute a number that is not 0 or 2 with its binary representation, additionally, using 2(0) instead of 1.\\n2. check whether the result contains only 0 and 2, and if it contains numbers other than 0 and 2, repeat the step 1 for these numbers\\nIt can be proved that the representation is unique after the above steps. '"
      ]
     },
     "execution_count": 4,
     "metadata": {},
     "output_type": "execute_result"
    }
   ],
   "source": [
    "# 02 Representaion\n",
    "'''Each positive integer n corresponds to a unique binary representation (specifying that binary\n",
    "numbers are written from right to left, in order of most significant digit to least significant digit).\n",
    "For example: 10 = 8 + 2 = 2(3) + 2(1)\n",
    "For ease of writing, “a(b)” is used in this question to denote “a to the power of b”, i.e., a^b.\n",
    "Specifying the 02 representation of a number can be obtained by the following procedure:\n",
    "1. substitute a number that is not 0 or 2 with its binary representation, additionally, using 2(0) instead of 1.\n",
    "2. check whether the result contains only 0 and 2, and if it contains numbers other than 0 and 2, repeat the step 1 for these numbers\n",
    "It can be proved that the representation is unique after the above steps. '''"
   ]
  },
  {
   "cell_type": "code",
   "execution_count": 5,
   "id": "00167585",
   "metadata": {},
   "outputs": [],
   "source": [
    "def get_lower_bound(num):  # get 2**n which is closest to num\n",
    "    time = 0\n",
    "    while num >= 2 ** time:\n",
    "        time += 1\n",
    "    return time - 1    # return an integer which is the power of lower bound"
   ]
  },
  {
   "cell_type": "code",
   "execution_count": 6,
   "id": "fd2a1cdc",
   "metadata": {},
   "outputs": [],
   "source": [
    "def divide(num):       # input an int, divide the int into sums of 2**n\n",
    "    list_of_powers = []\n",
    "    remaining = num\n",
    "    while remaining >= 1:\n",
    "        list_of_powers.append(get_lower_bound(remaining))\n",
    "        remaining = remaining - 2 ** get_lower_bound(remaining)\n",
    "    return list_of_powers   # return a list contains the powers"
   ]
  },
  {
   "cell_type": "code",
   "execution_count": 7,
   "id": "dd16500b",
   "metadata": {},
   "outputs": [],
   "source": [
    "def check_0_or_1_or_2(num):        # check whether the num is 0 or 1 or 2\n",
    "    list_of_element = [0, 1, 2]\n",
    "    if num not in list_of_element:\n",
    "        return False\n",
    "    return True"
   ]
  },
  {
   "cell_type": "code",
   "execution_count": 8,
   "id": "1b013d6c",
   "metadata": {},
   "outputs": [],
   "source": [
    "def change(list_to_change):          # input a list and change it into list contains 0 and 2 only\n",
    "    for i in range(len(list_to_change)):\n",
    "        if not check_0_or_1_or_2(list_to_change[i]):      # if 'i' contains more than 0 & 2\n",
    "            list_to_change[i] = divide(list_to_change[i])   # divide the extra num into 0 and 2\n",
    "            if not check_0_or_1_or_2(list_to_change[i]):\n",
    "                change(list_to_change[i])\n",
    "    return list_to_change"
   ]
  },
  {
   "cell_type": "code",
   "execution_count": 9,
   "id": "69d3cfcf",
   "metadata": {},
   "outputs": [],
   "source": [
    "def package(list_to_package):  # package num in list into num in brackets\n",
    "    list_of_output = []\n",
    "    string_form_basic = str(list_to_package)\n",
    "    string_form = string_form_basic[1:len(string_form_basic)-1]\n",
    "    for i in string_form:                   # this step is to transform the list to string we need\n",
    "        if i == '[':\n",
    "            list_of_output.append('2(')     # when we meet '[', we have to change it to '2('\n",
    "        elif i == '2':\n",
    "            list_of_output.append('2(2)')   # when we meet '2', we have to change it to '2(2)'\n",
    "        elif i == '0':\n",
    "            list_of_output.append('2(0)')   # when we meet '0', we have to change it to '2(0)'\n",
    "        elif i == ',':\n",
    "            list_of_output.append('+')      # when we meet ',', we have to change it to '+'\n",
    "        elif i == ']':\n",
    "            list_of_output.append(')')      # when we meet ']', we have to change it to ')'\n",
    "        elif i == '1':\n",
    "            list_of_output.append('2')      # when we meet '1', we have to change it to '2'\n",
    "    string = str()\n",
    "    for i in list_of_output:\n",
    "        string = string + i\n",
    "    return string"
   ]
  },
  {
   "cell_type": "code",
   "execution_count": 10,
   "id": "ad4d32f6",
   "metadata": {},
   "outputs": [
    {
     "name": "stdout",
     "output_type": "stream",
     "text": [
      "295\n",
      "2(2(2+2(0)))+2(2(2)+2(0))+2(2)+2+2(0)\n"
     ]
    }
   ],
   "source": [
    "num_to_replace = int(input())\n",
    "list_of_power_divide = divide(num_to_replace)\n",
    "num_to_print = package(change(list_of_power_divide))\n",
    "print(num_to_print)"
   ]
  },
  {
   "cell_type": "code",
   "execution_count": null,
   "id": "065a1eaa",
   "metadata": {},
   "outputs": [],
   "source": []
  }
 ],
 "metadata": {
  "kernelspec": {
   "display_name": "Python 3 (ipykernel)",
   "language": "python",
   "name": "python3"
  },
  "language_info": {
   "codemirror_mode": {
    "name": "ipython",
    "version": 3
   },
   "file_extension": ".py",
   "mimetype": "text/x-python",
   "name": "python",
   "nbconvert_exporter": "python",
   "pygments_lexer": "ipython3",
   "version": "3.10.5"
  }
 },
 "nbformat": 4,
 "nbformat_minor": 5
}
