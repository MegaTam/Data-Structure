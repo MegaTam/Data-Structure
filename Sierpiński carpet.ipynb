{
 "cells": [
  {
   "cell_type": "code",
   "execution_count": 3,
   "id": "82d42004",
   "metadata": {},
   "outputs": [
    {
     "name": "stdout",
     "output_type": "stream",
     "text": [
      "2\n",
      "#########\n",
      "# ## ## #\n",
      "#########\n",
      "###   ###\n",
      "# #   # #\n",
      "###   ###\n",
      "#########\n",
      "# ## ## #\n",
      "#########\n"
     ]
    }
   ],
   "source": [
    "#Sierpiński carpet\n",
    "'''You are required to write a program to print out the Sierpiński carpet of size 3^k × 3^k.\n",
    "Construction of Sierpiński carpet (quoted from wikipeadia):\n",
    "The construction of the Sierpiński carpet begins with a square. \n",
    "The square is cut into 9 congruent subsquares in a 3-by-3 grid, and the central subsquare is removed. \n",
    "The same procedure is then applied recursively to the remaining 8 subsquares, ad infinitum. '''\n",
    "\n",
    "def pattern(len_of_edge):\n",
    "    if len_of_edge == 3:\n",
    "        return ['###', '# #', '###']                  # define the most basic situation\n",
    "    else:\n",
    "        # recursive to the \"basic pattern\" of the pattern(1/9 of the pattern)\n",
    "        list_of_pattern = pattern(len_of_edge/3)\n",
    "        # expand the pattern in height by increasing the lines(3 elements in a line)\n",
    "        for j in range(int(len_of_edge/3)):\n",
    "            list_of_pattern.append(list_of_pattern[j])\n",
    "        for j in range(int(len_of_edge/3)):\n",
    "            list_of_pattern.append(list_of_pattern[j])\n",
    "        # create the line that contains the blank area\n",
    "        for k in range(len(list_of_pattern)):\n",
    "            if len_of_edge/3 <= k < 2*len_of_edge/3:  # the blank space is in the range of 1/3 to 2/3 of the side\n",
    "                list_of_pattern[k] = list_of_pattern[k] + ' '*int(len_of_edge/3) + list_of_pattern[k]\n",
    "                # the original element[k] will be updated with the new elements, which contains blanks and #'s\n",
    "            else:\n",
    "                list_of_pattern[k] = list_of_pattern[k]*3  # enlarge the pattern to 3 times of original\n",
    "        return list_of_pattern\n",
    "\n",
    "\n",
    "num = int(input())\n",
    "len_of_side = 3**num\n",
    "ans = pattern(len_of_side)\n",
    "for i in ans:\n",
    "    print(i)\n"
   ]
  },
  {
   "cell_type": "code",
   "execution_count": null,
   "id": "fe5140ab",
   "metadata": {},
   "outputs": [],
   "source": []
  }
 ],
 "metadata": {
  "kernelspec": {
   "display_name": "Python 3 (ipykernel)",
   "language": "python",
   "name": "python3"
  },
  "language_info": {
   "codemirror_mode": {
    "name": "ipython",
    "version": 3
   },
   "file_extension": ".py",
   "mimetype": "text/x-python",
   "name": "python",
   "nbconvert_exporter": "python",
   "pygments_lexer": "ipython3",
   "version": "3.10.5"
  }
 },
 "nbformat": 4,
 "nbformat_minor": 5
}
